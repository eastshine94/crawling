{
 "cells": [
  {
   "cell_type": "markdown",
   "metadata": {},
   "source": [
    "# Url to file(Daum)"
   ]
  },
  {
   "cell_type": "code",
   "execution_count": 1,
   "metadata": {},
   "outputs": [],
   "source": [
    "from bs4 import BeautifulSoup\n",
    "import urllib.request\n",
    "import pickle\n",
    "import time\n",
    "import re\n",
    "# Daum\n",
    "def get_text(URL):\n",
    "    source_code_from_URL = urllib.request.urlopen(URL)\n",
    "    soup = BeautifulSoup(source_code_from_URL, 'lxml', from_encoding='utf-8')\n",
    "    text = ''\n",
    "    for item in soup.find('div', id='harmonyContainer').find_all('p'):\n",
    "        text = text + \" \" + str(item.text)\n",
    "        \n",
    "    return text"
   ]
  },
  {
   "cell_type": "code",
   "execution_count": null,
   "metadata": {
    "scrolled": false
   },
   "outputs": [
    {
     "name": "stdout",
     "output_type": "stream",
     "text": [
      "130120\n"
     ]
    }
   ],
   "source": [
    "#연예\n",
    "with open('연예.pickle', 'rb') as f:\n",
    "    data = pickle.load(f)\n",
    "\n",
    "index = 1\n",
    "print(len(data))\n",
    "for i in range(0,len(data)):\n",
    "    URL =  data[i]\n",
    "    OUTPUT_FILE_NAME = 'newsdata/6/'+ '+6'+ str(index) + 'NewsData.txt'\n",
    "\n",
    "    index = index +1\n",
    "    \n",
    "    text = get_text(URL)\n",
    "    r = text.rfind(\"@\")\n",
    "    text = text[:r-1]\n",
    "    r = text.rfind(\".\")\n",
    "    text = text[:r+1]\n",
    "    \n",
    "    write_file = open(OUTPUT_FILE_NAME, 'w',encoding='UTF-8')\n",
    "    write_file.write(text)\n",
    "    write_file.close()\n",
    "    time.sleep(0.1)"
   ]
  },
  {
   "cell_type": "code",
   "execution_count": 3,
   "metadata": {},
   "outputs": [
    {
     "name": "stdout",
     "output_type": "stream",
     "text": [
      "150075\n"
     ]
    }
   ],
   "source": [
    "#스포츠\n",
    "with open('스포츠.pickle', 'rb') as f:\n",
    "    data = pickle.load(f)\n",
    "\n",
    "index = 1\n",
    "print(len(data))\n",
    "for i in range(0,len(data)):\n",
    "    URL =  data[i]\n",
    "    OUTPUT_FILE_NAME = 'newsdata/7/'+ '+7'+ str(index) + 'NewsData.txt'\n",
    "\n",
    "    index = index +1\n",
    "    \n",
    "    text = get_text(URL)\n",
    "    r = text.rfind(\"@\")\n",
    "    text = text[:r-1]\n",
    "    r = text.rfind(\".\")\n",
    "    text = text[:r+1]\n",
    "    \n",
    "    write_file = open(OUTPUT_FILE_NAME, 'w',encoding='UTF-8')\n",
    "    write_file.write(text)\n",
    "    write_file.close()\n",
    "    time.sleep(0.2)"
   ]
  },
  {
   "cell_type": "code",
   "execution_count": 4,
   "metadata": {},
   "outputs": [
    {
     "name": "stdout",
     "output_type": "stream",
     "text": [
      "130075\n"
     ]
    }
   ],
   "source": [
    "#기술/IT(5),\n",
    "with open('기술.pickle', 'rb') as f:\n",
    "    data = pickle.load(f)\n",
    "\n",
    "index = 1\n",
    "print(len(data))\n",
    "for i in range(0,len(data)):\n",
    "    URL =  data[i]\n",
    "    OUTPUT_FILE_NAME = 'newsdata/5/'+ '+5'+ str(index) + 'NewsData.txt'\n",
    "\n",
    "    index = index +1\n",
    "    \n",
    "    text = get_text(URL)\n",
    "    r = text.rfind(\"@\")\n",
    "    text = text[:r-1]\n",
    "    r = text.rfind(\".\")\n",
    "    text = text[:r+1]\n",
    "    \n",
    "    write_file = open(OUTPUT_FILE_NAME, 'w',encoding='UTF-8')\n",
    "    write_file.write(text)\n",
    "    write_file.close()\n",
    "    time.sleep(0.2)"
   ]
  },
  {
   "cell_type": "code",
   "execution_count": null,
   "metadata": {},
   "outputs": [],
   "source": []
  }
 ],
 "metadata": {
  "kernelspec": {
   "display_name": "Python 3",
   "language": "python",
   "name": "python3"
  },
  "language_info": {
   "codemirror_mode": {
    "name": "ipython",
    "version": 3
   },
   "file_extension": ".py",
   "mimetype": "text/x-python",
   "name": "python",
   "nbconvert_exporter": "python",
   "pygments_lexer": "ipython3",
   "version": "3.6.5"
  }
 },
 "nbformat": 4,
 "nbformat_minor": 2
}

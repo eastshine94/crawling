{
 "cells": [
  {
   "cell_type": "markdown",
   "metadata": {},
   "source": [
    "# Naver"
   ]
  },
  {
   "cell_type": "code",
   "execution_count": null,
   "metadata": {},
   "outputs": [],
   "source": [
    "from bs4 import BeautifulSoup\n",
    "from selenium import webdriver\n",
    "import requests\n",
    "import re\n",
    "import pickle\n",
    "import time"
   ]
  },
  {
   "cell_type": "code",
   "execution_count": null,
   "metadata": {},
   "outputs": [],
   "source": [
    "#정치(0), 경제(1), 사회(2), 생활/문화(3), 세계(4), 기술/IT(5), 연예(6), 스포츠(7)\n",
    "class Naver:\n",
    "    def __init__(self):\n",
    "        self.options = webdriver.ChromeOptions()\n",
    "        self.options.add_argument('headless')\n",
    "        self.driver = \"\"\n",
    "        self.url_list =[]\n",
    "        self.stop_crawling = True\n",
    "    def Open_Chrome(self, URL) :  \n",
    "        self.driver = webdriver.Chrome(\"chromedriver\",options=self.options)\n",
    "        self.driver.get(URL)\n",
    "        self.driver.implicitly_wait(3)\n",
    "    \n",
    "    def Close_Chrome(self):\n",
    "        self.driver.close()\n",
    "        \n",
    "    def get_url(self,xpath):\n",
    "        get_xpath= self.driver.find_element_by_xpath(xpath)\n",
    "        url =  get_xpath.get_attribute('href')\n",
    "        return url\n",
    "    \n",
    "    def loop_get_url(self, limit_num, save_file_name):\n",
    "        i = 1\n",
    "        j = 1\n",
    "        num = len(self.url_list)\n",
    "\n",
    "        while (j<=5) :\n",
    "            try :\n",
    "                xpath= '//*[@id=\"section_body\"]/ul[' + str(j) + ']/li[' + str(i) + ']/dl/dt[2]/a'\n",
    "                self.url_list.append(self.get_url(xpath))\n",
    "                i= i+1\n",
    "                num = num +1\n",
    "                if(num==limit_num):\n",
    "                    self.stop_crawling = False\n",
    "                    break\n",
    "            except:\n",
    "                i = 1\n",
    "                j = j+1\n",
    "        with open(save_file_name, 'wb') as f:\n",
    "            pickle.dump(self.url_list, f, pickle.HIGHEST_PROTOCOL)\n"
   ]
  },
  {
   "cell_type": "code",
   "execution_count": null,
   "metadata": {},
   "outputs": [],
   "source": [
    "#정치\n",
    "naver = Naver()\n",
    "i = 1 \n",
    "while naver.stop_crawling:\n",
    "    print(\"current page : \",i)\n",
    "    url = 'https://news.naver.com/main/main.nhn?mode=LSD&mid=shm&sid1=100#&date=%2000:00:00&page='+str(i)\n",
    "    naver.Open_Chrome(url)\n",
    "    naver.loop_get_url(1000,'정치.pickle')\n",
    "    naver.Close_Chrome()\n",
    "    i = i+1\n",
    "    time.sleep(2)\n",
    "    print(\"current list length: \",len(naver.url_list))\n",
    "print(len(naver.url_list))"
   ]
  },
  {
   "cell_type": "code",
   "execution_count": null,
   "metadata": {},
   "outputs": [],
   "source": [
    "#경제\n",
    "naver = Naver()\n",
    "i = 1 \n",
    "while naver.stop_crawling:\n",
    "    print(\"current page : \",i)\n",
    "    url = 'https://news.naver.com/main/main.nhn?mode=LSD&mid=shm&sid1=101#&date=%2000:00:00&page='+str(i)\n",
    "    naver.Open_Chrome(url)\n",
    "    naver.loop_get_url(1000,'경제.pickle')\n",
    "    naver.Close_Chrome()\n",
    "    i = i+1\n",
    "    time.sleep(2)\n",
    "    print(\"current list length: \",len(naver.url_list))\n",
    "print(len(naver.url_list))"
   ]
  },
  {
   "cell_type": "code",
   "execution_count": null,
   "metadata": {},
   "outputs": [],
   "source": [
    "#사회\n",
    "naver = Naver()\n",
    "i = 1 \n",
    "while naver.stop_crawling:\n",
    "    print(\"current page : \",i)\n",
    "    url = 'https://news.naver.com/main/main.nhn?mode=LSD&mid=shm&sid1=102#&date=%2000:00:00&page='+str(i)\n",
    "    naver.Open_Chrome(url)\n",
    "    naver.loop_get_url(1000,'사회.pickle')\n",
    "    naver.Close_Chrome()\n",
    "    i = i+1\n",
    "    time.sleep(2)\n",
    "    print(\"current list length: \",len(naver.url_list))\n",
    "print(len(naver.url_list))"
   ]
  },
  {
   "cell_type": "code",
   "execution_count": null,
   "metadata": {},
   "outputs": [],
   "source": [
    "#생활/문화\n",
    "naver = Naver()\n",
    "i = 1 \n",
    "while naver.stop_crawling:\n",
    "    print(\"current page : \",i)\n",
    "    url = 'https://news.naver.com/main/main.nhn?mode=LSD&mid=shm&sid1=103#&date=%2000:00:00&page='+str(i)\n",
    "    naver.Open_Chrome(url)\n",
    "    naver.loop_get_url(1000,'생활.pickle')\n",
    "    naver.Close_Chrome()\n",
    "    i = i+1\n",
    "    time.sleep(2)\n",
    "    print(\"current list length: \",len(naver.url_list))\n",
    "print(len(naver.url_list))"
   ]
  },
  {
   "cell_type": "code",
   "execution_count": null,
   "metadata": {},
   "outputs": [],
   "source": [
    "#세계\n",
    "naver = Naver()\n",
    "i = 1 \n",
    "while naver.stop_crawling:\n",
    "    print(\"current page : \",i)\n",
    "    url = 'https://news.naver.com/main/main.nhn?mode=LSD&mid=shm&sid1=104#&date=%2000:00:00&page='+str(i)\n",
    "    naver.Open_Chrome(url)\n",
    "    naver.loop_get_url(1000,'세계.pickle')\n",
    "    naver.Close_Chrome()\n",
    "    i = i+1\n",
    "    time.sleep(2)\n",
    "    print(\"current list length: \",len(naver.url_list))\n",
    "print(len(naver.url_list))"
   ]
  },
  {
   "cell_type": "code",
   "execution_count": null,
   "metadata": {},
   "outputs": [],
   "source": [
    "#IT/과학\n",
    "naver = Naver()\n",
    "i = 1 \n",
    "while naver.stop_crawling:\n",
    "    print(\"current page : \",i)\n",
    "    url = 'https://news.naver.com/main/main.nhn?mode=LSD&mid=shm&sid1=105#&date=%2000:00:00&page='+str(i)\n",
    "    naver.Open_Chrome(url)\n",
    "    naver.loop_get_url(1000,'과학.pickle')\n",
    "    naver.Close_Chrome()\n",
    "    i = i+1\n",
    "    time.sleep(2)\n",
    "    print(\"current list length: \",len(naver.url_list))\n",
    "print(len(naver.url_list))"
   ]
  }
 ],
 "metadata": {
  "kernelspec": {
   "display_name": "Python 3",
   "language": "python",
   "name": "python3"
  },
  "language_info": {
   "codemirror_mode": {
    "name": "ipython",
    "version": 3
   },
   "file_extension": ".py",
   "mimetype": "text/x-python",
   "name": "python",
   "nbconvert_exporter": "python",
   "pygments_lexer": "ipython3",
   "version": "3.6.5"
  }
 },
 "nbformat": 4,
 "nbformat_minor": 2
}

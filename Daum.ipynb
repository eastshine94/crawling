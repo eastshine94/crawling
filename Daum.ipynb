{
 "cells": [
  {
   "cell_type": "markdown",
   "metadata": {},
   "source": [
    "# Daum\n"
   ]
  },
  {
   "cell_type": "code",
   "execution_count": 2,
   "metadata": {},
   "outputs": [],
   "source": [
    "from bs4 import BeautifulSoup\n",
    "from selenium import webdriver\n",
    "import requests\n",
    "import re\n",
    "import pickle\n",
    "import time"
   ]
  },
  {
   "cell_type": "code",
   "execution_count": 11,
   "metadata": {},
   "outputs": [],
   "source": [
    "#정치(0), 경제(1), 사회(2), 생활/문화(3), 세계(4), 기술/IT(5), 연예(6), 스포츠(7)\n",
    "class Daum:\n",
    "    def __init__(self):\n",
    "        self.options = webdriver.ChromeOptions()\n",
    "        self.options.add_argument('headless')\n",
    "        self.driver = \"\"\n",
    "        self.url_list =[]\n",
    "        self.stop_crawling = True\n",
    "    def Open_Chrome(self, URL) :  \n",
    "        self.driver = webdriver.Chrome(\"chromedriver\",options = self.options)\n",
    "        self.driver.get(URL)\n",
    "        self.driver.implicitly_wait(3)\n",
    "    def Close_Chrome(self):\n",
    "        self.driver.close()\n",
    "        \n",
    "    def get_url(self,xpath):\n",
    "        get_xpath= self.driver.find_element_by_xpath(xpath)\n",
    "        url =  get_xpath.get_attribute('href')\n",
    "        return url\n",
    "   \n",
    "    def loop_get_url(self,limit_num, save_file_name):\n",
    "        i = 1\n",
    "        num = len(self.url_list)\n",
    "        while (i<=15) :\n",
    "            try :\n",
    "#                 xpath= '//*[@id=\"mArticle\"]/div[3]/ul/li['  + str(i) + ']/div/strong/a'\n",
    "\n",
    "#연예, 스포츠 일떄\n",
    "                xpath= '//*[@id=\"mArticle\"]/div[2]/ul/li['  + str(i) + ']/div/strong/a'\n",
    "    \n",
    "                text= self.driver.find_element_by_xpath(xpath).text\n",
    "                clean = re.sub(r'\\s+','',text)\n",
    "                clean = re.sub('[a-z]|[A-Z]|[0-9]','',clean)\n",
    "                clean = re.sub('[\\{\\}\\[\\]\\/?.,;:|\\)*~`!^\\-_+<>@\\#$%&\\\\\\=\\(\\'\\\"]','', clean)\n",
    "                \n",
    "                if clean != \"\" :\n",
    "                    self.url_list.append(self.get_url(xpath))\n",
    "                    num = num +1\n",
    "                \n",
    "                i= i+1\n",
    "                if(num==limit_num):\n",
    "                    self.stop_crawling = False\n",
    "                    break\n",
    "            except:\n",
    "                i = i+1\n",
    "                \n",
    "        with open(save_file_name, 'wb') as f:\n",
    "            pickle.dump(self.url_list, f, pickle.HIGHEST_PROTOCOL)\n",
    "    def pre_day(self) : \n",
    "        elem = self.driver.find_element_by_xpath('//*[@id=\"mArticle\"]/div[1]/div/div[1]/a[2]/span')\n",
    "        elem.click()\n",
    "        \n",
    "    def next_page(self,xpath) : \n",
    "        elem = self.driver.find_element_by_xpath(xpath)\n",
    "        elem.click()\n",
    " "
   ]
  },
  {
   "cell_type": "code",
   "execution_count": null,
   "metadata": {},
   "outputs": [],
   "source": [
    "#연예\n",
    "daum = Daum()\n",
    "url = 'https://media.daum.net/ranking/popular?include=entertain&regDate=20181109'\n",
    "daum.Open_Chrome(url)\n",
    "i = 1 \n",
    "while daum.stop_crawling:\n",
    "    print(\"current page : \",i)   \n",
    "    daum.loop_get_url(1000,'연예.pickle')\n",
    "    daum.next_page()\n",
    "    i = i+1\n",
    "    print(\"current list length: \",len(daum.url_list))\n",
    "\n",
    "daum.Close_Chrome()\n",
    "print(len(daum.url_list))"
   ]
  },
  {
   "cell_type": "code",
   "execution_count": null,
   "metadata": {},
   "outputs": [],
   "source": [
    "#스포츠\n",
    "daum = Daum()\n",
    "url = 'https://media.daum.net/ranking/popular?include=sports&regDate=20181109'\n",
    "daum.Open_Chrome(url)\n",
    "i = 1 \n",
    "while daum.stop_crawling:\n",
    "    print(\"current page : \",i)   \n",
    "    daum.loop_get_url(1000,'스포츠.pickle')\n",
    "    daum.next_page()\n",
    "    i = i+1\n",
    "    print(\"current list length: \",len(daum.url_list))\n",
    "\n",
    "daum.Close_Chrome()\n",
    "print(len(daum.url_list))"
   ]
  },
  {
   "cell_type": "code",
   "execution_count": null,
   "metadata": {},
   "outputs": [],
   "source": []
  }
 ],
 "metadata": {
  "kernelspec": {
   "display_name": "Python 3",
   "language": "python",
   "name": "python3"
  },
  "language_info": {
   "codemirror_mode": {
    "name": "ipython",
    "version": 3
   },
   "file_extension": ".py",
   "mimetype": "text/x-python",
   "name": "python",
   "nbconvert_exporter": "python",
   "pygments_lexer": "ipython3",
   "version": "3.6.5"
  }
 },
 "nbformat": 4,
 "nbformat_minor": 2
}
